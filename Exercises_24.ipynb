{
 "cells": [
  {
   "cell_type": "markdown",
   "metadata": {},
   "source": [
    "# Getting Financial Data - Google Finance"
   ]
  },
  {
   "cell_type": "markdown",
   "metadata": {},
   "source": [
    "### Introduction:\n",
    "\n",
    "This time you will get data from a website.\n",
    "\n",
    "\n",
    "### Step 1. Import the necessary libraries"
   ]
  },
  {
   "cell_type": "code",
   "execution_count": 1,
   "metadata": {},
   "outputs": [],
   "source": [
    "import pandas as pd\n",
    "import numpy as np\n",
    "%matplotlib inline\n",
    "import matplotlib.pyplot as plt\n",
    "import seaborn as sns"
   ]
  },
  {
   "cell_type": "markdown",
   "metadata": {},
   "source": [
    "### Step 2. Create your time range (start and end variables). The start date should be 01/01/2015 and the end should today (whatever your today is)"
   ]
  },
  {
   "cell_type": "code",
   "execution_count": 18,
   "metadata": {},
   "outputs": [],
   "source": [
    "from datetime import datetime\n",
    "start_date = datetime(2015,1,1)\n",
    "end_date = datetime(2020,9,9)"
   ]
  },
  {
   "cell_type": "code",
   "execution_count": 34,
   "metadata": {},
   "outputs": [
    {
     "data": {
      "text/plain": [
       "datetime.datetime(2020, 9, 9, 0, 0)"
      ]
     },
     "execution_count": 34,
     "metadata": {},
     "output_type": "execute_result"
    }
   ],
   "source": [
    "end_date"
   ]
  },
  {
   "cell_type": "markdown",
   "metadata": {},
   "source": [
    "### Step 3. Select the Apple, Tesla, Twitter, IBM, LinkedIn stocks symbols and assign them to a variable called stocks"
   ]
  },
  {
   "cell_type": "code",
   "execution_count": 26,
   "metadata": {},
   "outputs": [
    {
     "data": {
      "text/plain": [
       "['AAPL', 'TSLA', 'TWTR', 'IBM', 'LKI.DU']"
      ]
     },
     "execution_count": 26,
     "metadata": {},
     "output_type": "execute_result"
    }
   ],
   "source": [
    "stocks = ['AAPL','TSLA','TWTR','IBM','LKI.DU']\n",
    "stocks"
   ]
  },
  {
   "cell_type": "markdown",
   "metadata": {},
   "source": [
    "### Step 4. Read the data from google, assign to df and print it"
   ]
  },
  {
   "cell_type": "code",
   "execution_count": 16,
   "metadata": {},
   "outputs": [],
   "source": [
    "import pandas_datareader.data as web"
   ]
  },
  {
   "cell_type": "code",
   "execution_count": 27,
   "metadata": {},
   "outputs": [],
   "source": [
    "df = web.DataReader(stocks,'yahoo',start=start_date,end=end_date)"
   ]
  },
  {
   "cell_type": "code",
   "execution_count": 30,
   "metadata": {},
   "outputs": [
    {
     "data": {
      "text/html": [
       "<div>\n",
       "<style scoped>\n",
       "    .dataframe tbody tr th:only-of-type {\n",
       "        vertical-align: middle;\n",
       "    }\n",
       "\n",
       "    .dataframe tbody tr th {\n",
       "        vertical-align: top;\n",
       "    }\n",
       "\n",
       "    .dataframe thead tr th {\n",
       "        text-align: left;\n",
       "    }\n",
       "\n",
       "    .dataframe thead tr:last-of-type th {\n",
       "        text-align: right;\n",
       "    }\n",
       "</style>\n",
       "<table border=\"1\" class=\"dataframe\">\n",
       "  <thead>\n",
       "    <tr>\n",
       "      <th>Attributes</th>\n",
       "      <th colspan=\"5\" halign=\"left\">Adj Close</th>\n",
       "      <th colspan=\"5\" halign=\"left\">Close</th>\n",
       "      <th>...</th>\n",
       "      <th colspan=\"5\" halign=\"left\">Open</th>\n",
       "      <th colspan=\"5\" halign=\"left\">Volume</th>\n",
       "    </tr>\n",
       "    <tr>\n",
       "      <th>Symbols</th>\n",
       "      <th>AAPL</th>\n",
       "      <th>TSLA</th>\n",
       "      <th>TWTR</th>\n",
       "      <th>IBM</th>\n",
       "      <th>LKI.DU</th>\n",
       "      <th>AAPL</th>\n",
       "      <th>TSLA</th>\n",
       "      <th>TWTR</th>\n",
       "      <th>IBM</th>\n",
       "      <th>LKI.DU</th>\n",
       "      <th>...</th>\n",
       "      <th>AAPL</th>\n",
       "      <th>TSLA</th>\n",
       "      <th>TWTR</th>\n",
       "      <th>IBM</th>\n",
       "      <th>LKI.DU</th>\n",
       "      <th>AAPL</th>\n",
       "      <th>TSLA</th>\n",
       "      <th>TWTR</th>\n",
       "      <th>IBM</th>\n",
       "      <th>LKI.DU</th>\n",
       "    </tr>\n",
       "    <tr>\n",
       "      <th>Date</th>\n",
       "      <th></th>\n",
       "      <th></th>\n",
       "      <th></th>\n",
       "      <th></th>\n",
       "      <th></th>\n",
       "      <th></th>\n",
       "      <th></th>\n",
       "      <th></th>\n",
       "      <th></th>\n",
       "      <th></th>\n",
       "      <th></th>\n",
       "      <th></th>\n",
       "      <th></th>\n",
       "      <th></th>\n",
       "      <th></th>\n",
       "      <th></th>\n",
       "      <th></th>\n",
       "      <th></th>\n",
       "      <th></th>\n",
       "      <th></th>\n",
       "      <th></th>\n",
       "    </tr>\n",
       "  </thead>\n",
       "  <tbody>\n",
       "    <tr>\n",
       "      <th>2014-12-31</th>\n",
       "      <td>25.181044</td>\n",
       "      <td>44.481998</td>\n",
       "      <td>35.869999</td>\n",
       "      <td>124.624557</td>\n",
       "      <td>NaN</td>\n",
       "      <td>27.594999</td>\n",
       "      <td>44.481998</td>\n",
       "      <td>35.869999</td>\n",
       "      <td>160.440002</td>\n",
       "      <td>NaN</td>\n",
       "      <td>...</td>\n",
       "      <td>28.205000</td>\n",
       "      <td>44.618000</td>\n",
       "      <td>35.889999</td>\n",
       "      <td>160.410004</td>\n",
       "      <td>NaN</td>\n",
       "      <td>165613600.0</td>\n",
       "      <td>11487500.0</td>\n",
       "      <td>17629400.0</td>\n",
       "      <td>4011900.0</td>\n",
       "      <td>NaN</td>\n",
       "    </tr>\n",
       "    <tr>\n",
       "      <th>2015-01-02</th>\n",
       "      <td>24.941502</td>\n",
       "      <td>43.862000</td>\n",
       "      <td>36.560001</td>\n",
       "      <td>125.882919</td>\n",
       "      <td>NaN</td>\n",
       "      <td>27.332500</td>\n",
       "      <td>43.862000</td>\n",
       "      <td>36.560001</td>\n",
       "      <td>162.059998</td>\n",
       "      <td>NaN</td>\n",
       "      <td>...</td>\n",
       "      <td>27.847500</td>\n",
       "      <td>44.574001</td>\n",
       "      <td>36.230000</td>\n",
       "      <td>161.309998</td>\n",
       "      <td>NaN</td>\n",
       "      <td>212818400.0</td>\n",
       "      <td>23822000.0</td>\n",
       "      <td>12062500.0</td>\n",
       "      <td>5525500.0</td>\n",
       "      <td>NaN</td>\n",
       "    </tr>\n",
       "    <tr>\n",
       "      <th>2015-01-05</th>\n",
       "      <td>24.238857</td>\n",
       "      <td>42.018002</td>\n",
       "      <td>36.380001</td>\n",
       "      <td>123.902168</td>\n",
       "      <td>NaN</td>\n",
       "      <td>26.562500</td>\n",
       "      <td>42.018002</td>\n",
       "      <td>36.380001</td>\n",
       "      <td>159.509995</td>\n",
       "      <td>NaN</td>\n",
       "      <td>...</td>\n",
       "      <td>27.072500</td>\n",
       "      <td>42.910000</td>\n",
       "      <td>36.259998</td>\n",
       "      <td>161.270004</td>\n",
       "      <td>NaN</td>\n",
       "      <td>257142000.0</td>\n",
       "      <td>26842500.0</td>\n",
       "      <td>15062700.0</td>\n",
       "      <td>4880400.0</td>\n",
       "      <td>NaN</td>\n",
       "    </tr>\n",
       "    <tr>\n",
       "      <th>2015-01-06</th>\n",
       "      <td>24.241146</td>\n",
       "      <td>42.256001</td>\n",
       "      <td>38.759998</td>\n",
       "      <td>121.230103</td>\n",
       "      <td>NaN</td>\n",
       "      <td>26.565001</td>\n",
       "      <td>42.256001</td>\n",
       "      <td>38.759998</td>\n",
       "      <td>156.070007</td>\n",
       "      <td>NaN</td>\n",
       "      <td>...</td>\n",
       "      <td>26.635000</td>\n",
       "      <td>42.012001</td>\n",
       "      <td>36.270000</td>\n",
       "      <td>159.669998</td>\n",
       "      <td>NaN</td>\n",
       "      <td>263188400.0</td>\n",
       "      <td>31309500.0</td>\n",
       "      <td>33050800.0</td>\n",
       "      <td>6146700.0</td>\n",
       "      <td>NaN</td>\n",
       "    </tr>\n",
       "    <tr>\n",
       "      <th>2015-01-07</th>\n",
       "      <td>24.581060</td>\n",
       "      <td>42.189999</td>\n",
       "      <td>37.279999</td>\n",
       "      <td>120.437820</td>\n",
       "      <td>NaN</td>\n",
       "      <td>26.937500</td>\n",
       "      <td>42.189999</td>\n",
       "      <td>37.279999</td>\n",
       "      <td>155.050003</td>\n",
       "      <td>NaN</td>\n",
       "      <td>...</td>\n",
       "      <td>26.799999</td>\n",
       "      <td>42.669998</td>\n",
       "      <td>39.099998</td>\n",
       "      <td>157.199997</td>\n",
       "      <td>NaN</td>\n",
       "      <td>160423600.0</td>\n",
       "      <td>14842000.0</td>\n",
       "      <td>22675700.0</td>\n",
       "      <td>4701800.0</td>\n",
       "      <td>NaN</td>\n",
       "    </tr>\n",
       "  </tbody>\n",
       "</table>\n",
       "<p>5 rows × 30 columns</p>\n",
       "</div>"
      ],
      "text/plain": [
       "Attributes  Adj Close                                               Close  \\\n",
       "Symbols          AAPL       TSLA       TWTR         IBM LKI.DU       AAPL   \n",
       "Date                                                                        \n",
       "2014-12-31  25.181044  44.481998  35.869999  124.624557    NaN  27.594999   \n",
       "2015-01-02  24.941502  43.862000  36.560001  125.882919    NaN  27.332500   \n",
       "2015-01-05  24.238857  42.018002  36.380001  123.902168    NaN  26.562500   \n",
       "2015-01-06  24.241146  42.256001  38.759998  121.230103    NaN  26.565001   \n",
       "2015-01-07  24.581060  42.189999  37.279999  120.437820    NaN  26.937500   \n",
       "\n",
       "Attributes                                           ...       Open  \\\n",
       "Symbols          TSLA       TWTR         IBM LKI.DU  ...       AAPL   \n",
       "Date                                                 ...              \n",
       "2014-12-31  44.481998  35.869999  160.440002    NaN  ...  28.205000   \n",
       "2015-01-02  43.862000  36.560001  162.059998    NaN  ...  27.847500   \n",
       "2015-01-05  42.018002  36.380001  159.509995    NaN  ...  27.072500   \n",
       "2015-01-06  42.256001  38.759998  156.070007    NaN  ...  26.635000   \n",
       "2015-01-07  42.189999  37.279999  155.050003    NaN  ...  26.799999   \n",
       "\n",
       "Attributes                                                Volume              \\\n",
       "Symbols          TSLA       TWTR         IBM LKI.DU         AAPL        TSLA   \n",
       "Date                                                                           \n",
       "2014-12-31  44.618000  35.889999  160.410004    NaN  165613600.0  11487500.0   \n",
       "2015-01-02  44.574001  36.230000  161.309998    NaN  212818400.0  23822000.0   \n",
       "2015-01-05  42.910000  36.259998  161.270004    NaN  257142000.0  26842500.0   \n",
       "2015-01-06  42.012001  36.270000  159.669998    NaN  263188400.0  31309500.0   \n",
       "2015-01-07  42.669998  39.099998  157.199997    NaN  160423600.0  14842000.0   \n",
       "\n",
       "Attributes                                \n",
       "Symbols           TWTR        IBM LKI.DU  \n",
       "Date                                      \n",
       "2014-12-31  17629400.0  4011900.0    NaN  \n",
       "2015-01-02  12062500.0  5525500.0    NaN  \n",
       "2015-01-05  15062700.0  4880400.0    NaN  \n",
       "2015-01-06  33050800.0  6146700.0    NaN  \n",
       "2015-01-07  22675700.0  4701800.0    NaN  \n",
       "\n",
       "[5 rows x 30 columns]"
      ]
     },
     "execution_count": 30,
     "metadata": {},
     "output_type": "execute_result"
    }
   ],
   "source": [
    "df.head()   #Not reading Linkedin data"
   ]
  },
  {
   "cell_type": "markdown",
   "metadata": {},
   "source": [
    "### Step 5.  What is the type of structure of df ?"
   ]
  },
  {
   "cell_type": "code",
   "execution_count": 33,
   "metadata": {},
   "outputs": [
    {
     "data": {
      "text/plain": [
       "pandas.core.frame.DataFrame"
      ]
     },
     "execution_count": 33,
     "metadata": {},
     "output_type": "execute_result"
    }
   ],
   "source": [
    "type(df)"
   ]
  },
  {
   "cell_type": "markdown",
   "metadata": {},
   "source": [
    "### Step 6. Print all the Items axis values\n",
    "#### To learn more about the Panel structure go to [documentation](http://pandas.pydata.org/pandas-docs/stable/dsintro.html#panel) "
   ]
  },
  {
   "cell_type": "code",
   "execution_count": 35,
   "metadata": {},
   "outputs": [
    {
     "data": {
      "text/plain": [
       "<bound method DataFrame.items of Attributes   Adj Close                                                 Close  \\\n",
       "Symbols           AAPL        TSLA       TWTR         IBM LKI.DU        AAPL   \n",
       "Date                                                                           \n",
       "2014-12-31   25.181044   44.481998  35.869999  124.624557    NaN   27.594999   \n",
       "2015-01-02   24.941502   43.862000  36.560001  125.882919    NaN   27.332500   \n",
       "2015-01-05   24.238857   42.018002  36.380001  123.902168    NaN   26.562500   \n",
       "2015-01-06   24.241146   42.256001  38.759998  121.230103    NaN   26.565001   \n",
       "2015-01-07   24.581060   42.189999  37.279999  120.437820    NaN   26.937500   \n",
       "...                ...         ...        ...         ...    ...         ...   \n",
       "2020-09-01  134.179993  475.049988  41.150002  123.400002    NaN  134.179993   \n",
       "2020-09-02  131.399994  447.369995  43.669998  128.179993    NaN  131.399994   \n",
       "2020-09-03  120.879997  407.000000  41.630001  124.449997    NaN  120.879997   \n",
       "2020-09-04  120.959999  418.320007  39.869999  122.300003    NaN  120.959999   \n",
       "2020-09-08  112.820000  330.209991  38.189999  121.209999    NaN  112.820000   \n",
       "\n",
       "Attributes                                            ...        Open  \\\n",
       "Symbols           TSLA       TWTR         IBM LKI.DU  ...        AAPL   \n",
       "Date                                                  ...               \n",
       "2014-12-31   44.481998  35.869999  160.440002    NaN  ...   28.205000   \n",
       "2015-01-02   43.862000  36.560001  162.059998    NaN  ...   27.847500   \n",
       "2015-01-05   42.018002  36.380001  159.509995    NaN  ...   27.072500   \n",
       "2015-01-06   42.256001  38.759998  156.070007    NaN  ...   26.635000   \n",
       "2015-01-07   42.189999  37.279999  155.050003    NaN  ...   26.799999   \n",
       "...                ...        ...         ...    ...  ...         ...   \n",
       "2020-09-01  475.049988  41.150002  123.400002    NaN  ...  132.759995   \n",
       "2020-09-02  447.369995  43.669998  128.179993    NaN  ...  137.589996   \n",
       "2020-09-03  407.000000  41.630001  124.449997    NaN  ...  126.910004   \n",
       "2020-09-04  418.320007  39.869999  122.300003    NaN  ...  120.070000   \n",
       "2020-09-08  330.209991  38.189999  121.209999    NaN  ...  113.949997   \n",
       "\n",
       "Attributes                                                 Volume  \\\n",
       "Symbols           TSLA       TWTR         IBM LKI.DU         AAPL   \n",
       "Date                                                                \n",
       "2014-12-31   44.618000  35.889999  160.410004    NaN  165613600.0   \n",
       "2015-01-02   44.574001  36.230000  161.309998    NaN  212818400.0   \n",
       "2015-01-05   42.910000  36.259998  161.270004    NaN  257142000.0   \n",
       "2015-01-06   42.012001  36.270000  159.669998    NaN  263188400.0   \n",
       "2015-01-07   42.669998  39.099998  157.199997    NaN  160423600.0   \n",
       "...                ...        ...         ...    ...          ...   \n",
       "2020-09-01  502.140015  40.610001  122.849998    NaN  152470100.0   \n",
       "2020-09-02  478.989990  41.520000  123.720001    NaN  200119000.0   \n",
       "2020-09-03  407.230011  42.740002  128.190002    NaN  257599600.0   \n",
       "2020-09-04  402.809998  41.200001  124.349998    NaN  332607200.0   \n",
       "2020-09-08  356.000000  38.520000  122.160004    NaN  230220200.0   \n",
       "\n",
       "Attributes                                             \n",
       "Symbols            TSLA        TWTR        IBM LKI.DU  \n",
       "Date                                                   \n",
       "2014-12-31   11487500.0  17629400.0  4011900.0    NaN  \n",
       "2015-01-02   23822000.0  12062500.0  5525500.0    NaN  \n",
       "2015-01-05   26842500.0  15062700.0  4880400.0    NaN  \n",
       "2015-01-06   31309500.0  33050800.0  6146700.0    NaN  \n",
       "2015-01-07   14842000.0  22675700.0  4701800.0    NaN  \n",
       "...                 ...         ...        ...    ...  \n",
       "2020-09-01   90119400.0  10478800.0  3155300.0    NaN  \n",
       "2020-09-02   96176100.0  26800000.0  6592400.0    NaN  \n",
       "2020-09-03   87596100.0  18760800.0  5716800.0    NaN  \n",
       "2020-09-04  110321900.0  17825000.0  6018200.0    NaN  \n",
       "2020-09-08  113168200.0  16055700.0  5209200.0    NaN  \n",
       "\n",
       "[1432 rows x 30 columns]>"
      ]
     },
     "execution_count": 35,
     "metadata": {},
     "output_type": "execute_result"
    }
   ],
   "source": [
    "df.items"
   ]
  },
  {
   "cell_type": "markdown",
   "metadata": {},
   "source": [
    "### Step 7. Good, now we know  the data avaiable. Create a dataFrame called vol, with the Volume values."
   ]
  },
  {
   "cell_type": "code",
   "execution_count": 41,
   "metadata": {},
   "outputs": [
    {
     "data": {
      "text/html": [
       "<div>\n",
       "<style scoped>\n",
       "    .dataframe tbody tr th:only-of-type {\n",
       "        vertical-align: middle;\n",
       "    }\n",
       "\n",
       "    .dataframe tbody tr th {\n",
       "        vertical-align: top;\n",
       "    }\n",
       "\n",
       "    .dataframe thead th {\n",
       "        text-align: right;\n",
       "    }\n",
       "</style>\n",
       "<table border=\"1\" class=\"dataframe\">\n",
       "  <thead>\n",
       "    <tr style=\"text-align: right;\">\n",
       "      <th>Symbols</th>\n",
       "      <th>AAPL</th>\n",
       "      <th>TSLA</th>\n",
       "      <th>TWTR</th>\n",
       "      <th>IBM</th>\n",
       "    </tr>\n",
       "    <tr>\n",
       "      <th>Date</th>\n",
       "      <th></th>\n",
       "      <th></th>\n",
       "      <th></th>\n",
       "      <th></th>\n",
       "    </tr>\n",
       "  </thead>\n",
       "  <tbody>\n",
       "    <tr>\n",
       "      <th>2014-12-31</th>\n",
       "      <td>165613600.0</td>\n",
       "      <td>11487500.0</td>\n",
       "      <td>17629400.0</td>\n",
       "      <td>4011900.0</td>\n",
       "    </tr>\n",
       "    <tr>\n",
       "      <th>2015-01-02</th>\n",
       "      <td>212818400.0</td>\n",
       "      <td>23822000.0</td>\n",
       "      <td>12062500.0</td>\n",
       "      <td>5525500.0</td>\n",
       "    </tr>\n",
       "    <tr>\n",
       "      <th>2015-01-05</th>\n",
       "      <td>257142000.0</td>\n",
       "      <td>26842500.0</td>\n",
       "      <td>15062700.0</td>\n",
       "      <td>4880400.0</td>\n",
       "    </tr>\n",
       "    <tr>\n",
       "      <th>2015-01-06</th>\n",
       "      <td>263188400.0</td>\n",
       "      <td>31309500.0</td>\n",
       "      <td>33050800.0</td>\n",
       "      <td>6146700.0</td>\n",
       "    </tr>\n",
       "    <tr>\n",
       "      <th>2015-01-07</th>\n",
       "      <td>160423600.0</td>\n",
       "      <td>14842000.0</td>\n",
       "      <td>22675700.0</td>\n",
       "      <td>4701800.0</td>\n",
       "    </tr>\n",
       "  </tbody>\n",
       "</table>\n",
       "</div>"
      ],
      "text/plain": [
       "Symbols            AAPL        TSLA        TWTR        IBM\n",
       "Date                                                      \n",
       "2014-12-31  165613600.0  11487500.0  17629400.0  4011900.0\n",
       "2015-01-02  212818400.0  23822000.0  12062500.0  5525500.0\n",
       "2015-01-05  257142000.0  26842500.0  15062700.0  4880400.0\n",
       "2015-01-06  263188400.0  31309500.0  33050800.0  6146700.0\n",
       "2015-01-07  160423600.0  14842000.0  22675700.0  4701800.0"
      ]
     },
     "execution_count": 41,
     "metadata": {},
     "output_type": "execute_result"
    }
   ],
   "source": [
    "vol  = df['Volume'].drop('LKI.DU',axis=1)  #dropped as NAN'S\n",
    "vol.head()"
   ]
  },
  {
   "cell_type": "markdown",
   "metadata": {},
   "source": [
    "### Step 8. Aggregate the data of Volume to weekly\n",
    "#### Hint: Be careful to not sum data from the same week of 2015 and other years."
   ]
  },
  {
   "cell_type": "code",
   "execution_count": 91,
   "metadata": {
    "scrolled": true
   },
   "outputs": [
    {
     "name": "stderr",
     "output_type": "stream",
     "text": [
      "C:\\ProgramData\\Anaconda3\\lib\\site-packages\\ipykernel_launcher.py:1: FutureWarning: weekofyear and week have been deprecated, please use DatetimeIndex.isocalendar().week instead, which returns a Series.  To exactly reproduce the behavior of week and weekofyear and return an Index, you may call pd.Int64Index(idx.isocalendar().week)\n",
      "  \"\"\"Entry point for launching an IPython kernel.\n"
     ]
    }
   ],
   "source": [
    "vol['Week'] = vol.index.week\n",
    "vol['Year'] = vol.index.year"
   ]
  },
  {
   "cell_type": "code",
   "execution_count": 93,
   "metadata": {},
   "outputs": [
    {
     "data": {
      "text/html": [
       "<div>\n",
       "<style scoped>\n",
       "    .dataframe tbody tr th:only-of-type {\n",
       "        vertical-align: middle;\n",
       "    }\n",
       "\n",
       "    .dataframe tbody tr th {\n",
       "        vertical-align: top;\n",
       "    }\n",
       "\n",
       "    .dataframe thead th {\n",
       "        text-align: right;\n",
       "    }\n",
       "</style>\n",
       "<table border=\"1\" class=\"dataframe\">\n",
       "  <thead>\n",
       "    <tr style=\"text-align: right;\">\n",
       "      <th></th>\n",
       "      <th>Symbols</th>\n",
       "      <th>AAPL</th>\n",
       "      <th>TSLA</th>\n",
       "      <th>TWTR</th>\n",
       "      <th>IBM</th>\n",
       "    </tr>\n",
       "    <tr>\n",
       "      <th>Week</th>\n",
       "      <th>Year</th>\n",
       "      <th></th>\n",
       "      <th></th>\n",
       "      <th></th>\n",
       "      <th></th>\n",
       "    </tr>\n",
       "  </thead>\n",
       "  <tbody>\n",
       "    <tr>\n",
       "      <th rowspan=\"5\" valign=\"top\">1</th>\n",
       "      <th>2014</th>\n",
       "      <td>1.656136e+08</td>\n",
       "      <td>11487500.0</td>\n",
       "      <td>17629400.0</td>\n",
       "      <td>4011900.0</td>\n",
       "    </tr>\n",
       "    <tr>\n",
       "      <th>2015</th>\n",
       "      <td>2.128184e+08</td>\n",
       "      <td>23822000.0</td>\n",
       "      <td>12062500.0</td>\n",
       "      <td>5525500.0</td>\n",
       "    </tr>\n",
       "    <tr>\n",
       "      <th>2016</th>\n",
       "      <td>1.375161e+09</td>\n",
       "      <td>104877000.0</td>\n",
       "      <td>89028400.0</td>\n",
       "      <td>25253600.0</td>\n",
       "    </tr>\n",
       "    <tr>\n",
       "      <th>2017</th>\n",
       "      <td>4.153820e+08</td>\n",
       "      <td>142882000.0</td>\n",
       "      <td>58748700.0</td>\n",
       "      <td>11943500.0</td>\n",
       "    </tr>\n",
       "    <tr>\n",
       "      <th>2018</th>\n",
       "      <td>5.446876e+08</td>\n",
       "      <td>148567500.0</td>\n",
       "      <td>76711500.0</td>\n",
       "      <td>31378900.0</td>\n",
       "    </tr>\n",
       "    <tr>\n",
       "      <th>...</th>\n",
       "      <th>...</th>\n",
       "      <td>...</td>\n",
       "      <td>...</td>\n",
       "      <td>...</td>\n",
       "      <td>...</td>\n",
       "    </tr>\n",
       "    <tr>\n",
       "      <th rowspan=\"4\" valign=\"top\">52</th>\n",
       "      <th>2016</th>\n",
       "      <td>3.393144e+08</td>\n",
       "      <td>91929000.0</td>\n",
       "      <td>55262100.0</td>\n",
       "      <td>7771300.0</td>\n",
       "    </tr>\n",
       "    <tr>\n",
       "      <th>2017</th>\n",
       "      <td>3.886552e+08</td>\n",
       "      <td>85920000.0</td>\n",
       "      <td>39409600.0</td>\n",
       "      <td>10643000.0</td>\n",
       "    </tr>\n",
       "    <tr>\n",
       "      <th>2018</th>\n",
       "      <td>7.646408e+08</td>\n",
       "      <td>161185500.0</td>\n",
       "      <td>107546100.0</td>\n",
       "      <td>21630300.0</td>\n",
       "    </tr>\n",
       "    <tr>\n",
       "      <th>2019</th>\n",
       "      <td>3.864380e+08</td>\n",
       "      <td>209769500.0</td>\n",
       "      <td>38480500.0</td>\n",
       "      <td>8887200.0</td>\n",
       "    </tr>\n",
       "    <tr>\n",
       "      <th>53</th>\n",
       "      <th>2015</th>\n",
       "      <td>4.950460e+08</td>\n",
       "      <td>53602500.0</td>\n",
       "      <td>59760700.0</td>\n",
       "      <td>13538600.0</td>\n",
       "    </tr>\n",
       "  </tbody>\n",
       "</table>\n",
       "<p>299 rows × 4 columns</p>\n",
       "</div>"
      ],
      "text/plain": [
       "Symbols            AAPL         TSLA         TWTR         IBM\n",
       "Week Year                                                    \n",
       "1    2014  1.656136e+08   11487500.0   17629400.0   4011900.0\n",
       "     2015  2.128184e+08   23822000.0   12062500.0   5525500.0\n",
       "     2016  1.375161e+09  104877000.0   89028400.0  25253600.0\n",
       "     2017  4.153820e+08  142882000.0   58748700.0  11943500.0\n",
       "     2018  5.446876e+08  148567500.0   76711500.0  31378900.0\n",
       "...                 ...          ...          ...         ...\n",
       "52   2016  3.393144e+08   91929000.0   55262100.0   7771300.0\n",
       "     2017  3.886552e+08   85920000.0   39409600.0  10643000.0\n",
       "     2018  7.646408e+08  161185500.0  107546100.0  21630300.0\n",
       "     2019  3.864380e+08  209769500.0   38480500.0   8887200.0\n",
       "53   2015  4.950460e+08   53602500.0   59760700.0  13538600.0\n",
       "\n",
       "[299 rows x 4 columns]"
      ]
     },
     "execution_count": 93,
     "metadata": {},
     "output_type": "execute_result"
    }
   ],
   "source": [
    "vol.groupby(['Week','Year']).sum()"
   ]
  },
  {
   "cell_type": "markdown",
   "metadata": {},
   "source": [
    "### Step 9. Find all the volume traded in the year of 2015"
   ]
  },
  {
   "cell_type": "code",
   "execution_count": 98,
   "metadata": {},
   "outputs": [
    {
     "data": {
      "text/plain": [
       "Symbols\n",
       "AAPL    5.226420e+10\n",
       "TSLA    5.441089e+09\n",
       "TWTR    5.361489e+09\n",
       "IBM     1.105583e+09\n",
       "dtype: float64"
      ]
     },
     "execution_count": 98,
     "metadata": {},
     "output_type": "execute_result"
    }
   ],
   "source": [
    "# del vol['Week']      # Run this once\n",
    "# del vol['Year']  # Run this once \n",
    "vol[vol.index.year==2015].sum()"
   ]
  },
  {
   "cell_type": "markdown",
   "metadata": {},
   "source": [
    "### BONUS: Create your own question and answer it."
   ]
  },
  {
   "cell_type": "markdown",
   "metadata": {},
   "source": [
    "#### PLOT THE VOLUMES OF STOCKS OVER THE LAST 5 YEARS"
   ]
  },
  {
   "cell_type": "code",
   "execution_count": 106,
   "metadata": {},
   "outputs": [
    {
     "data": {
      "text/plain": [
       "<AxesSubplot:xlabel='Date'>"
      ]
     },
     "execution_count": 106,
     "metadata": {},
     "output_type": "execute_result"
    },
    {
     "data": {
      "text/plain": [
       "<Figure size 432x288 with 0 Axes>"
      ]
     },
     "metadata": {},
     "output_type": "display_data"
    },
    {
     "data": {
      "image/png": "[encoded data removed]",
      "text/plain": [
       "<Figure size 720x720 with 1 Axes>"
      ]
     },
     "metadata": {
      "needs_background": "light"
     },
     "output_type": "display_data"
    }
   ],
   "source": [
    "plt.figure()\n",
    "vol.plot(figsize=(10,10))"
   ]
  }
 ],
 "metadata": {
  "kernelspec": {
   "display_name": "Python 3",
   "language": "python",
   "name": "python3"
  },
  "language_info": {
   "codemirror_mode": {
    "name": "ipython",
    "version": 3
   },
   "file_extension": ".py",
   "mimetype": "text/x-python",
   "name": "python",
   "nbconvert_exporter": "python",
   "pygments_lexer": "ipython3",
   "version": "3.7.6"
  }
 },
 "nbformat": 4,
 "nbformat_minor": 1
}
